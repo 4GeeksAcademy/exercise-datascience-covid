{
 "cells": [
  {
   "cell_type": "markdown",
   "metadata": {},
   "source": [
    "# About this course\n",
    "\n",
    "You are here because you want to become a Machine Learning expert, what a smart decision 🤯!   \n",
    "I don't have to tell you already how AI is already shaping our world in ways that are impossible to explain; Almost every company uses AI today: Every army in the world, airlines, streaming, all big companies use AI to predict and make better decisions.\n",
    "\n",
    "## How prepared will you be after this course?\n",
    "\n",
    "Just as an example, here is a quick taste of what you will be capable to do, some of these examples have been taken from projects developed by our own graduates:\n",
    "1. Diagnost neumonia by looking at x-rays with 90% accuracy (higher than doctors).\n",
    "2. Use AI to automatically find a missing child in 20k people crowds (this happened for real).\n",
    "3. Predict stock market prices with 70%+ accuracy (for specific scenarios).\n",
    "4. Find people holding guns in buzy places, like airports, concerts, etc.\n",
    "\n",
    "And this is just the top of the iceberg, maybe something for your final project; But the knowledge and fundamentals that you will adquire during the course will make you fit perfectly into most AI teams in the world; and help you shape and develop today's most advanced Artificial Inteligences.\n",
    "\n",
    "## Looking for jobs\n",
    "\n",
    "As of today, our students are already working at companies like CEMEX, Blackstone, the City of Coral Gables (the most advanced city in the US in terms of AI) and many others.\n",
    "\n",
    "You won't need any other course of training, all you will have to do is work hard to practice what you learned and be able to demonstrate during an interview the same skills you adquired during this course and your final project presentation.\n",
    "\n",
    "## Methodology\n",
    "\n",
    "The following are our four cornerstones applied into any of our courses:\n",
    "\n",
    "1. Flipped classroom: The class will be a lab, you will come to class with lessons/videos already read and lot's of questions. Ready to practice! Technical skills are only adquired thru practice.\n",
    "2. Ask questions: This course is designed in a way that you will need to ask questions, we emphize on this instensively because it has become an essential skill for today's agile and technical teams, writing a question the right way helps you structure your ideas logically, helps you understand better, helps you be better at \"googling\" and it's also the fastest way to stop being stuck, which is the #1 barrier for learning a technical skill like this.\n",
    "3. A little every day is better than a lot just one day: [The brain forgets 80% of what it learns after 7 days](https://www.mindtools.com/pages/article/forgetting-curve.htm). That is why it's so important to practice every day. The course is desined for consistent practice and missing just two classes in a row will put you in a very challening possition to be able to recover from it.\n",
    "4. Focus: Let your family and friends know about this course, ask them to let you focus and study, the next 16 weeks will change your professional career forever and having the right mindset is essential for a successfull experience.\n",
    "\n",
    "## Prework syllabus in a nutshell\n",
    "\n",
    "This is just the first module of the course: The Prework.\n",
    "\n",
    "In general terms, we will cover the following topics, please note that this table of contents is not written in stone and is subject to change without notice, our only goal is to give you a general idea on what to expect:\n",
    "\n",
    "Prework\n",
    "\n",
    "1. Coding in Python: Loops, Functions, Classes & Objects.  \n",
    "2. Most used libraries: Numpy, Pandas & MathPlotLib.  \n",
    "3. Working with files.  \n",
    "4. Working with the terminal.  \n",
    "5. Introduction to Data Science.  \n",
    "    5.1. Types of data: numerical, categorical, ordinal,   \n",
    "    5.2. Types of averages: mean, medium, mode.  \n",
    "    5.3. Types of spread.   \n",
    "    5.4. Quantile vs Percentile.  \n",
    "    5.5. Data visualization:   \n",
    "            5.5.1. One variable: Histogram, Bar Plot, Pie Chart.  \n",
    "            5.5.2. Two variable: Scatter Plot, Line Plot, 2D Histogram.  \n",
    "            5.5.3. Three Variable: Heat Map, Multivar Line Plot.  \n"
   ]
  }
 ],
 "metadata": {
  "language_info": {
   "name": "python"
  },
  "orig_nbformat": 4
 },
 "nbformat": 4,
 "nbformat_minor": 2
}
